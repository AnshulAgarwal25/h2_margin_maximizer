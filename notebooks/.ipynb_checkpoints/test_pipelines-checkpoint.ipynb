{
 "cells": [
  {
   "cell_type": "code",
   "execution_count": 1,
   "id": "f1d6bd68-01ca-4731-81b8-6da884615abf",
   "metadata": {},
   "outputs": [],
   "source": [
    "import os\n",
    "import duckdb\n",
    "from deltalake import DeltaTable\n",
    "# from parameters.credentials import *"
   ]
  },
  {
   "cell_type": "code",
   "execution_count": 2,
   "id": "29952831-cbc2-4bc4-bae4-738f27313e4e",
   "metadata": {},
   "outputs": [],
   "source": [
    "duckdb.sql(\"INSTALL 'delta'\")\n",
    "duckdb.sql(\"LOAD 'delta'\")"
   ]
  },
  {
   "cell_type": "code",
   "execution_count": 3,
   "id": "55063e66-39dc-4b35-a185-35db9be37c4d",
   "metadata": {},
   "outputs": [],
   "source": [
    "storage_account_name = \"chemstoragednaproj001\"  # \"<your-storage-account>\"\n",
    "storage_account_key = \"yeXQN4nWt83jX42gGoXTA4QVBhJnoDFHfaqD1SOk4b7n0zpK4U3yGk2waUVzH63avnW6aZwhWqli+AStEFIcvg==\"  # \"<your-storage-key>\"  # Or use SAS token\n",
    "container_name = \"dna-silver-layer\"\n",
    "path_to_silver_table = \"external/MarginMaximizer/DCS_Tags_st\"\n",
    "\n",
    "# Format the ADLS Gen2 URL\n",
    "delta_table_path = f\"abfss://{container_name}@{storage_account_name}.dfs.core.windows.net/{path_to_silver_table}\""
   ]
  },
  {
   "cell_type": "code",
   "execution_count": 4,
   "id": "8a7102c5-a815-43a9-9616-4ba40562f97c",
   "metadata": {},
   "outputs": [
    {
     "data": {
      "text/plain": [
       "<duckdb.duckdb.DuckDBPyConnection at 0x104b9a8f0>"
      ]
     },
     "execution_count": 4,
     "metadata": {},
     "output_type": "execute_result"
    }
   ],
   "source": [
    "# Set credentials via environment variables for adlfs to work with DeltaTable\n",
    "os.environ[\"AZURE_STORAGE_ACCOUNT_NAME\"] = storage_account_name\n",
    "os.environ[\"AZURE_STORAGE_ACCOUNT_KEY\"] = storage_account_key\n",
    "\n",
    "storage_options = {\"account_name\": storage_account_name,\n",
    "                   \"account_key\": storage_account_key,\n",
    "                   }\n",
    "\n",
    "con = duckdb.connect()\n",
    "con.execute(\"INSTALL 'delta';\")\n",
    "con.execute(\"LOAD 'delta';\")\n",
    "\n",
    "# dt = DeltaTable(delta_table_path, storage_options=storage_options)\n",
    "# pdf = dt.to_pandas().sort_values(\"TimeStamp\", ascending=False)"
   ]
  },
  {
   "cell_type": "code",
   "execution_count": 5,
   "id": "c632f817-2252-4d78-8b82-742d94f6692f",
   "metadata": {},
   "outputs": [],
   "source": [
    "query = f\"\"\"\n",
    "SELECT * FROM read_delta('{delta_table_path}',\n",
    "    storage_options={{'AZURE_STORAGE_ACCOUNT_NAME': '{storage_account_name}', 'AZURE_STORAGE_ACCOUNT_KEY': '{storage_account_key}'}})\n",
    "ORDER BY TimeStamp DESC\n",
    "LIMIT 20;\n",
    "\"\"\""
   ]
  },
  {
   "cell_type": "code",
   "execution_count": 6,
   "id": "64b44a14-f18c-4193-b9a7-8b306c83154c",
   "metadata": {},
   "outputs": [
    {
     "ename": "CatalogException",
     "evalue": "Catalog Error: Table Function with name read_delta does not exist!\nDid you mean \"read_parquet\"?\n\nLINE 2: SELECT * FROM read_delta('abfss://dna-silver-layer@chemstoragednaproj001...\n                      ^",
     "output_type": "error",
     "traceback": [
      "\u001b[31m---------------------------------------------------------------------------\u001b[39m",
      "\u001b[31mCatalogException\u001b[39m                          Traceback (most recent call last)",
      "\u001b[36mCell\u001b[39m\u001b[36m \u001b[39m\u001b[32mIn[6]\u001b[39m\u001b[32m, line 2\u001b[39m\n\u001b[32m      1\u001b[39m \u001b[38;5;66;03m# df_top_20 = duckdb.query(query).to_df()\u001b[39;00m\n\u001b[32m----> \u001b[39m\u001b[32m2\u001b[39m df_top_20 = \u001b[43mcon\u001b[49m\u001b[43m.\u001b[49m\u001b[43mexecute\u001b[49m\u001b[43m(\u001b[49m\u001b[43mquery\u001b[49m\u001b[43m)\u001b[49m.fetchdf()\n",
      "\u001b[31mCatalogException\u001b[39m: Catalog Error: Table Function with name read_delta does not exist!\nDid you mean \"read_parquet\"?\n\nLINE 2: SELECT * FROM read_delta('abfss://dna-silver-layer@chemstoragednaproj001...\n                      ^"
     ]
    }
   ],
   "source": [
    "# df_top_20 = duckdb.query(query).to_df()\n",
    "df_top_20 = con.execute(query).fetchdf()"
   ]
  },
  {
   "cell_type": "code",
   "execution_count": null,
   "id": "d7cd6f13-7733-4a29-8b24-a6fb14d3ec8f",
   "metadata": {},
   "outputs": [],
   "source": []
  }
 ],
 "metadata": {
  "kernelspec": {
   "display_name": "Python 3 (ipykernel)",
   "language": "python",
   "name": "python3"
  },
  "language_info": {
   "codemirror_mode": {
    "name": "ipython",
    "version": 3
   },
   "file_extension": ".py",
   "mimetype": "text/x-python",
   "name": "python",
   "nbconvert_exporter": "python",
   "pygments_lexer": "ipython3",
   "version": "3.11.13"
  }
 },
 "nbformat": 4,
 "nbformat_minor": 5
}
